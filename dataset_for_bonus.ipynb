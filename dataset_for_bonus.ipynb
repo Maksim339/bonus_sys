{
 "cells": [
  {
   "cell_type": "code",
   "execution_count": 21,
   "metadata": {},
   "outputs": [
    {
     "name": "stdout",
     "output_type": "stream",
     "text": [
      "\u001b[31mERROR: Could not find a version that satisfies the requirement os (from versions: none)\u001b[0m\n",
      "\u001b[31mERROR: No matching distribution found for os\u001b[0m\n",
      "Note: you may need to restart the kernel to use updated packages.\n"
     ]
    }
   ],
   "source": [
    "pip install os"
   ]
  },
  {
   "cell_type": "code",
   "execution_count": 43,
   "metadata": {},
   "outputs": [],
   "source": [
    "import shutil\n",
    "import os"
   ]
  },
  {
   "cell_type": "code",
   "execution_count": 63,
   "metadata": {},
   "outputs": [],
   "source": [
    "# Каталог с набором данных\n",
    "data_dir = '/home/maksim/PycharmProjects/bonus_sys/for_bonus'\n",
    "# Каталог с данными для обучения\n",
    "train_dir = 'train'\n",
    "# Каталог с данными для проверки\n",
    "val_dir = 'val'\n",
    "# Каталог с данными для тестирования\n",
    "test_dir = 'test'\n",
    "# Часть набора данных для тестирования\n",
    "test_data_portion = 0.15\n",
    "# Часть набора данных для проверки\n",
    "val_data_portion = 0.15\n",
    "# Количество элементов данных в одном классе\n",
    "nb_images = 157"
   ]
  },
  {
   "cell_type": "code",
   "execution_count": 64,
   "metadata": {},
   "outputs": [],
   "source": [
    "def create_directory(dir_name):\n",
    "    if os.path.exists(dir_name):\n",
    "        shutil.rmtree(dir_name)\n",
    "    os.makedirs(dir_name)\n",
    "    os.makedirs(os.path.join(dir_name, \"100\"))\n",
    "    os.makedirs(os.path.join(dir_name, \"invalid\"))"
   ]
  },
  {
   "cell_type": "code",
   "execution_count": 65,
   "metadata": {},
   "outputs": [],
   "source": [
    "create_directory(train_dir)\n",
    "create_directory(val_dir)\n",
    "create_directory(test_dir)"
   ]
  },
  {
   "cell_type": "code",
   "execution_count": 66,
   "metadata": {},
   "outputs": [],
   "source": [
    "def copy_images(start_index, end_index, source_dir, dest_dir):\n",
    "    for i in range(start_index, end_index):\n",
    "        shutil.copy2(os.path.join(source_dir, \"hundred\" + str(i) + \".jpg\"), \n",
    "                    os.path.join(dest_dir, \"100\"))\n",
    "        shutil.copy2(os.path.join(source_dir, \"invalid\" + str(i) + \".jpg\"), \n",
    "                   os.path.join(dest_dir, \"invalid\"))"
   ]
  },
  {
   "cell_type": "code",
   "execution_count": 67,
   "metadata": {},
   "outputs": [
    {
     "name": "stdout",
     "output_type": "stream",
     "text": [
      "109\n",
      "133\n"
     ]
    }
   ],
   "source": [
    "start_val_data_idx = int(nb_images * (1 - val_data_portion - test_data_portion))\n",
    "start_test_data_idx = int(nb_images * (1 - test_data_portion))\n",
    "print(start_val_data_idx)\n",
    "print(start_test_data_idx)"
   ]
  },
  {
   "cell_type": "code",
   "execution_count": 68,
   "metadata": {
    "scrolled": true
   },
   "outputs": [],
   "source": [
    "copy_images(0, start_val_data_idx, data_dir, train_dir)\n",
    "copy_images(start_val_data_idx, start_test_data_idx, data_dir, val_dir)\n",
    "copy_images(start_test_data_idx, nb_images, data_dir, test_dir)"
   ]
  },
  {
   "cell_type": "markdown",
   "metadata": {},
   "source": [
    "# Обучение"
   ]
  },
  {
   "cell_type": "code",
   "execution_count": 69,
   "metadata": {},
   "outputs": [],
   "source": [
    "from tensorflow.python.keras.preprocessing.image import ImageDataGenerator\n",
    "from tensorflow.python.keras.models import Sequential\n",
    "from tensorflow.python.keras.layers import Conv2D, MaxPooling2D\n",
    "from tensorflow.python.keras.layers import Activation, Dropout, Flatten, Dense"
   ]
  },
  {
   "cell_type": "code",
   "execution_count": 70,
   "metadata": {},
   "outputs": [],
   "source": [
    "# Каталог с данными для обучения\n",
    "train_dir = 'train'\n",
    "# Каталог с данными для проверки\n",
    "val_dir = 'val'\n",
    "# Каталог с данными для тестирования\n",
    "test_dir = 'test'\n",
    "# Размеры изображения\n",
    "img_width, img_height = 90, 45\n",
    "# Размерность тензора на основе изображения для входных данных в нейронную сеть\n",
    "# backend Tensorflow, channels_last\n",
    "input_shape = (img_width, img_height, 3)\n",
    "# Количество эпох\n",
    "epochs = 30\n",
    "# Размер мини-выборки\n",
    "batch_size = 16\n",
    "# Количество изображений для обучения\n",
    "nb_train_samples = 109\n",
    "# Количество изображений для проверки\n",
    "nb_validation_samples = 24\n",
    "# Количество изображений для тестирования\n",
    "nb_test_samples = 24"
   ]
  },
  {
   "cell_type": "code",
   "execution_count": 71,
   "metadata": {},
   "outputs": [],
   "source": [
    "model = Sequential()\n",
    "model.add(Conv2D(32, (3, 3), input_shape=input_shape))\n",
    "model.add(Activation('relu'))\n",
    "model.add(MaxPooling2D(pool_size=(2, 2)))\n",
    "\n",
    "model.add(Conv2D(32, (3, 3)))\n",
    "model.add(Activation('relu'))\n",
    "model.add(MaxPooling2D(pool_size=(2, 2)))\n",
    "\n",
    "model.add(Conv2D(64, (3, 3)))\n",
    "model.add(Activation('relu'))\n",
    "model.add(MaxPooling2D(pool_size=(2, 2)))\n",
    "\n",
    "model.add(Flatten())\n",
    "model.add(Dense(64))\n",
    "model.add(Activation('relu'))\n",
    "model.add(Dropout(0.5))\n",
    "model.add(Dense(1))\n",
    "model.add(Activation('sigmoid'))"
   ]
  },
  {
   "cell_type": "code",
   "execution_count": 72,
   "metadata": {},
   "outputs": [],
   "source": [
    "model.compile(loss='binary_crossentropy',\n",
    "              optimizer='adam',\n",
    "              metrics=['accuracy'])"
   ]
  },
  {
   "cell_type": "code",
   "execution_count": 73,
   "metadata": {},
   "outputs": [],
   "source": [
    "datagen = ImageDataGenerator(rescale=1. / 255)"
   ]
  },
  {
   "cell_type": "code",
   "execution_count": 74,
   "metadata": {},
   "outputs": [
    {
     "name": "stdout",
     "output_type": "stream",
     "text": [
      "Found 218 images belonging to 2 classes.\n"
     ]
    }
   ],
   "source": [
    "train_generator = datagen.flow_from_directory(\n",
    "    train_dir,\n",
    "    target_size=(img_width, img_height),\n",
    "    batch_size=batch_size,\n",
    "    class_mode='binary')"
   ]
  },
  {
   "cell_type": "code",
   "execution_count": 75,
   "metadata": {},
   "outputs": [
    {
     "name": "stdout",
     "output_type": "stream",
     "text": [
      "Found 48 images belonging to 2 classes.\n"
     ]
    }
   ],
   "source": [
    "val_generator = datagen.flow_from_directory(\n",
    "    val_dir,\n",
    "    target_size=(img_width, img_height),\n",
    "    batch_size=batch_size,\n",
    "    class_mode='binary')"
   ]
  },
  {
   "cell_type": "code",
   "execution_count": 76,
   "metadata": {},
   "outputs": [
    {
     "name": "stdout",
     "output_type": "stream",
     "text": [
      "Found 48 images belonging to 2 classes.\n"
     ]
    }
   ],
   "source": [
    "test_generator = datagen.flow_from_directory(\n",
    "    test_dir,\n",
    "    target_size=(img_width, img_height),\n",
    "    batch_size=batch_size,\n",
    "    class_mode='binary')"
   ]
  },
  {
   "cell_type": "code",
   "execution_count": 77,
   "metadata": {},
   "outputs": [
    {
     "name": "stdout",
     "output_type": "stream",
     "text": [
      "Epoch 1/30\n",
      "6/6 [==============================] - 1s 113ms/step - loss: 0.7123 - accuracy: 0.4792 - val_loss: 0.7347 - val_accuracy: 0.3125\n",
      "Epoch 2/30\n",
      "6/6 [==============================] - 0s 55ms/step - loss: 0.7037 - accuracy: 0.4688 - val_loss: 0.6787 - val_accuracy: 0.5625\n",
      "Epoch 3/30\n",
      "6/6 [==============================] - 0s 59ms/step - loss: 0.6856 - accuracy: 0.4688 - val_loss: 0.6884 - val_accuracy: 0.2500\n",
      "Epoch 4/30\n",
      "6/6 [==============================] - 0s 53ms/step - loss: 0.6405 - accuracy: 0.6111 - val_loss: 0.7320 - val_accuracy: 0.3750\n",
      "Epoch 5/30\n",
      "6/6 [==============================] - 0s 57ms/step - loss: 0.6523 - accuracy: 0.6111 - val_loss: 0.6252 - val_accuracy: 0.8750\n",
      "Epoch 6/30\n",
      "6/6 [==============================] - 0s 61ms/step - loss: 0.5968 - accuracy: 0.6354 - val_loss: 0.5481 - val_accuracy: 0.9375\n",
      "Epoch 7/30\n",
      "6/6 [==============================] - 0s 51ms/step - loss: 0.5350 - accuracy: 0.8000 - val_loss: 0.4649 - val_accuracy: 1.0000\n",
      "Epoch 8/30\n",
      "6/6 [==============================] - 0s 51ms/step - loss: 0.4121 - accuracy: 0.8778 - val_loss: 0.3510 - val_accuracy: 0.8125\n",
      "Epoch 9/30\n",
      "6/6 [==============================] - 0s 52ms/step - loss: 0.3626 - accuracy: 0.8750 - val_loss: 0.2518 - val_accuracy: 0.8750\n",
      "Epoch 10/30\n",
      "6/6 [==============================] - 0s 57ms/step - loss: 0.3184 - accuracy: 0.8646 - val_loss: 0.3845 - val_accuracy: 0.7500\n",
      "Epoch 11/30\n",
      "6/6 [==============================] - 0s 56ms/step - loss: 0.3654 - accuracy: 0.8438 - val_loss: 0.3070 - val_accuracy: 0.8750\n",
      "Epoch 12/30\n",
      "6/6 [==============================] - 0s 61ms/step - loss: 0.3785 - accuracy: 0.8750 - val_loss: 0.3247 - val_accuracy: 0.8750\n",
      "Epoch 13/30\n",
      "6/6 [==============================] - 0s 56ms/step - loss: 0.3218 - accuracy: 0.8542 - val_loss: 0.4725 - val_accuracy: 0.8125\n",
      "Epoch 14/30\n",
      "6/6 [==============================] - 0s 60ms/step - loss: 0.3027 - accuracy: 0.8750 - val_loss: 0.2310 - val_accuracy: 0.8750\n",
      "Epoch 15/30\n",
      "6/6 [==============================] - 0s 60ms/step - loss: 0.2806 - accuracy: 0.8854 - val_loss: 0.1534 - val_accuracy: 1.0000\n",
      "Epoch 16/30\n",
      "6/6 [==============================] - 1s 91ms/step - loss: 0.2215 - accuracy: 0.9167 - val_loss: 0.2484 - val_accuracy: 0.8750\n",
      "Epoch 17/30\n",
      "6/6 [==============================] - 1s 98ms/step - loss: 0.1872 - accuracy: 0.9375 - val_loss: 0.1979 - val_accuracy: 0.8750\n",
      "Epoch 18/30\n",
      "6/6 [==============================] - 0s 62ms/step - loss: 0.1565 - accuracy: 0.9375 - val_loss: 0.1111 - val_accuracy: 0.9375\n",
      "Epoch 19/30\n",
      "6/6 [==============================] - 0s 58ms/step - loss: 0.1087 - accuracy: 0.9667 - val_loss: 0.0197 - val_accuracy: 1.0000\n",
      "Epoch 20/30\n",
      "6/6 [==============================] - 0s 59ms/step - loss: 0.1539 - accuracy: 0.9375 - val_loss: 0.1106 - val_accuracy: 0.9375\n",
      "Epoch 21/30\n",
      "6/6 [==============================] - 1s 88ms/step - loss: 0.0613 - accuracy: 1.0000 - val_loss: 0.0193 - val_accuracy: 1.0000\n",
      "Epoch 22/30\n",
      "6/6 [==============================] - 0s 53ms/step - loss: 0.0795 - accuracy: 0.9778 - val_loss: 0.0177 - val_accuracy: 1.0000\n",
      "Epoch 23/30\n",
      "6/6 [==============================] - 0s 54ms/step - loss: 0.1219 - accuracy: 0.9556 - val_loss: 0.0460 - val_accuracy: 1.0000\n",
      "Epoch 24/30\n",
      "6/6 [==============================] - 0s 75ms/step - loss: 0.0741 - accuracy: 0.9688 - val_loss: 0.0363 - val_accuracy: 1.0000\n",
      "Epoch 25/30\n",
      "6/6 [==============================] - 0s 78ms/step - loss: 0.0861 - accuracy: 0.9688 - val_loss: 0.0619 - val_accuracy: 1.0000\n",
      "Epoch 26/30\n",
      "6/6 [==============================] - 0s 57ms/step - loss: 0.0700 - accuracy: 0.9778 - val_loss: 0.0332 - val_accuracy: 1.0000\n",
      "Epoch 27/30\n",
      "6/6 [==============================] - 0s 65ms/step - loss: 0.0629 - accuracy: 0.9792 - val_loss: 0.0242 - val_accuracy: 1.0000\n",
      "Epoch 28/30\n",
      "6/6 [==============================] - 0s 61ms/step - loss: 0.0776 - accuracy: 0.9688 - val_loss: 0.0107 - val_accuracy: 1.0000\n",
      "Epoch 29/30\n",
      "6/6 [==============================] - 0s 68ms/step - loss: 0.0423 - accuracy: 0.9896 - val_loss: 0.0157 - val_accuracy: 1.0000\n",
      "Epoch 30/30\n",
      "6/6 [==============================] - 0s 83ms/step - loss: 0.0571 - accuracy: 0.9688 - val_loss: 0.0631 - val_accuracy: 0.9375\n"
     ]
    },
    {
     "data": {
      "text/plain": [
       "<tensorflow.python.keras.callbacks.History at 0x7f4f4cf70dd0>"
      ]
     },
     "execution_count": 77,
     "metadata": {},
     "output_type": "execute_result"
    }
   ],
   "source": [
    "model.fit_generator(\n",
    "    train_generator,\n",
    "    steps_per_epoch=nb_train_samples // batch_size,\n",
    "    epochs=epochs,\n",
    "    validation_data=val_generator,\n",
    "    validation_steps=nb_validation_samples // batch_size)"
   ]
  },
  {
   "cell_type": "code",
   "execution_count": 78,
   "metadata": {},
   "outputs": [],
   "source": [
    "scores = model.evaluate_generator(test_generator, nb_test_samples // batch_size)"
   ]
  },
  {
   "cell_type": "code",
   "execution_count": 79,
   "metadata": {},
   "outputs": [
    {
     "name": "stdout",
     "output_type": "stream",
     "text": [
      "87.50%\n"
     ]
    }
   ],
   "source": [
    "print(\"%.2f%%\" % (scores[1]*100))"
   ]
  },
  {
   "cell_type": "code",
   "execution_count": null,
   "metadata": {},
   "outputs": [],
   "source": []
  }
 ],
 "metadata": {
  "kernelspec": {
   "display_name": "Python 3",
   "language": "python",
   "name": "python3"
  },
  "language_info": {
   "codemirror_mode": {
    "name": "ipython",
    "version": 3
   },
   "file_extension": ".py",
   "mimetype": "text/x-python",
   "name": "python",
   "nbconvert_exporter": "python",
   "pygments_lexer": "ipython3",
   "version": "3.7.6"
  }
 },
 "nbformat": 4,
 "nbformat_minor": 4
}
